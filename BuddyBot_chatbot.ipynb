{
  "nbformat": 4,
  "nbformat_minor": 0,
  "metadata": {
    "colab": {
      "provenance": [],
      "authorship_tag": "ABX9TyMmMVcBOlJfvvW2OcHG+LAU",
      "include_colab_link": true
    },
    "kernelspec": {
      "name": "python3",
      "display_name": "Python 3"
    },
    "language_info": {
      "name": "python"
    }
  },
  "cells": [
    {
      "cell_type": "markdown",
      "metadata": {
        "id": "view-in-github",
        "colab_type": "text"
      },
      "source": [
        "<a href=\"https://colab.research.google.com/github/Gopikanta/Buddy-Bot/blob/main/BuddyBot_chatbot.ipynb\" target=\"_parent\"><img src=\"https://colab.research.google.com/assets/colab-badge.svg\" alt=\"Open In Colab\"/></a>"
      ]
    },
    {
      "cell_type": "code",
      "source": [
        "import nltk\n",
        "from nltk.tokenize import word_tokenize\n",
        "from nltk.corpus import stopwords\n",
        "import random\n",
        "import string\n",
        "\n",
        "# Download necessary NLTK data\n",
        "nltk.download('punkt')\n",
        "nltk.download('stopwords')\n",
        "\n",
        "# Define responses with more variety\n",
        "responses = {\n",
        "    \"hello\": [\"Hi there!\", \"Hello!\", \"Hey! How can I assist you?\"],\n",
        "    \"how are you\": [\"I'm a chatbot, but I'm doing great! How about you?\", \"I'm fine, thank you!\"],\n",
        "    \"your name\": [\"I'm an AI chatbot!\", \"You can call me ChatBot!\"],\n",
        "    \"bye\": [\"Goodbye! Have a nice day!\", \"See you later!\", \"Bye! Take care!\"],\n",
        "    \"weather\": [\"I can't check real-time weather, but I hope it's a good day!\", \"Why not check a weather app?\"],\n",
        "    \"thanks\": [\"You're welcome!\", \"No problem!\", \"Glad to help!\"],\n",
        "    \"what can you do\": [\"I can chat with you! Ask me anything.\", \"I'm here to assist you with basic questions!\"]\n",
        "}\n",
        "\n",
        "# Function to clean and process text\n",
        "def clean_text(text):\n",
        "    text = text.lower()  # Convert to lowercase\n",
        "    text = text.translate(str.maketrans('', '', string.punctuation))  # Remove punctuation\n",
        "    words = word_tokenize(text)  # Tokenize words\n",
        "    important_words = {\"how\", \"what\", \"where\", \"who\", \"why\"}  # Keep these words\n",
        "    words = [word for word in words if word in important_words or word not in stopwords.words('english')]  # Remove stopwords but keep important words\n",
        "    return words\n",
        "\n",
        "# Function to find the best response\n",
        "def chatbot_response(user_input):\n",
        "    user_words = clean_text(user_input)\n",
        "\n",
        "    best_match = None\n",
        "    best_match_score = 0\n",
        "\n",
        "    for key in responses:\n",
        "        key_words = clean_text(key)\n",
        "        common_words = set(user_words) & set(key_words)  # Find common words\n",
        "\n",
        "        if len(common_words) > best_match_score:\n",
        "            best_match_score = len(common_words)\n",
        "            best_match = key\n",
        "\n",
        "    if best_match:\n",
        "        return random.choice(responses[best_match])\n",
        "\n",
        "    return \"I'm sorry, I don't understand that. Can you rephrase?\"\n",
        "\n",
        "# Interactive Chat\n",
        "print(\"Chatbot: Hello! Type 'bye' to exit.\")\n",
        "while True:\n",
        "    user_input = input(\"You: \")\n",
        "    if user_input.lower() == \"bye\":\n",
        "        print(\"Chatbot: Goodbye! Have a nice day!\")\n",
        "        break\n",
        "    print(\"Chatbot:\", chatbot_response(user_input))\n"
      ],
      "metadata": {
        "colab": {
          "base_uri": "https://localhost:8080/"
        },
        "id": "m4zWShAsMAiT",
        "outputId": "740e6bce-8705-40cd-abe2-d5832fef3afd"
      },
      "execution_count": 13,
      "outputs": [
        {
          "output_type": "stream",
          "name": "stderr",
          "text": [
            "[nltk_data] Downloading package punkt to /root/nltk_data...\n",
            "[nltk_data]   Package punkt is already up-to-date!\n",
            "[nltk_data] Downloading package stopwords to /root/nltk_data...\n",
            "[nltk_data]   Package stopwords is already up-to-date!\n"
          ]
        },
        {
          "output_type": "stream",
          "name": "stdout",
          "text": [
            "Chatbot: Hello! Type 'bye' to exit.\n",
            "You: hello\n",
            "Chatbot: Hey! How can I assist you?\n",
            "You: how are you\n",
            "Chatbot: I'm fine, thank you!\n",
            "You: your name\n",
            "Chatbot: I'm an AI chatbot!\n",
            "You: wheather\n",
            "Chatbot: I'm sorry, I don't understand that. Can you rephrase?\n",
            "You: weather\n",
            "Chatbot: Why not check a weather app?\n",
            "You: what can you do\n",
            "Chatbot: I can chat with you! Ask me anything.\n",
            "You: thanks\n",
            "Chatbot: You're welcome!\n",
            "You: bye\n",
            "Chatbot: Goodbye! Have a nice day!\n"
          ]
        }
      ]
    },
    {
      "cell_type": "markdown",
      "source": [],
      "metadata": {
        "id": "6f1qKtnRHlgj"
      }
    }
  ]
}